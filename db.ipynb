{
 "cells": [
  {
   "cell_type": "code",
   "execution_count": 6,
   "metadata": {},
   "outputs": [
    {
     "name": "stdout",
     "output_type": "stream",
     "text": [
      "(1, 'orange', 5200)\n",
      "(3, 'kiwi', 4000)\n",
      "(6, 'persimmon', 7000)\n",
      "(7, 'banana', 4000)\n"
     ]
    }
   ],
   "source": [
    "import sqlite3\n",
    "\n",
    "filepath = \"test2.sqlite\"\n",
    "conn = sqlite3.connect(filepath)\n",
    "\n",
    "cur = conn.cursor()\n",
    "cur.execute(\"drop table if exists items\")\n",
    "cur.execute(\"\"\"Create table items(item_id integer primary key, name text, price integer)\"\"\")\n",
    "conn.commit()\n",
    "\n",
    "cur = conn.cursor()\n",
    "cur.execute((\"insert into items (name,price) values (?,?)\"),(\"orange\", 5200))\n",
    "conn.commit()\n",
    "\n",
    "cur = conn.cursor()\n",
    "data = [(\"mango\",7700),(\"kiwi\",4000),(\"grape\",8000),(\"peach\",9400),(\"persimmon\",7000),(\"banana\",4000)]\n",
    "cur.executemany(\"insert into items(name,price) values (?,?)\",data)\n",
    "conn.commit()\n",
    "\n",
    "cur= conn.cursor()\n",
    "price_range = (4000,7000)\n",
    "cur.execute(\"select * from items where price >=?and price<=?\", price_range)\n",
    "fr_list = cur.fetchall()\n",
    "for fr in fr_list: \n",
    "    print(fr)"
   ]
  },
  {
   "cell_type": "code",
   "execution_count": null,
   "metadata": {},
   "outputs": [],
   "source": []
  }
 ],
 "metadata": {
  "kernelspec": {
   "display_name": "Python 3",
   "language": "python",
   "name": "python3"
  },
  "language_info": {
   "codemirror_mode": {
    "name": "ipython",
    "version": 3
   },
   "file_extension": ".py",
   "mimetype": "text/x-python",
   "name": "python",
   "nbconvert_exporter": "python",
   "pygments_lexer": "ipython3",
   "version": "3.7.7"
  }
 },
 "nbformat": 4,
 "nbformat_minor": 4
}
