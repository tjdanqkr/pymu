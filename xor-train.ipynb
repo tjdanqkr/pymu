{
 "cells": [
  {
   "cell_type": "code",
   "execution_count": 3,
   "metadata": {},
   "outputs": [
    {
     "name": "stdout",
     "output_type": "stream",
     "text": [
      "예측 결과 :  [0 1 1 0]\n",
      "정답률 :  4 / 4 = 1.0\n"
     ]
    }
   ],
   "source": [
    "from sklearn import svm\n",
    "\n",
    "xor_data = [\n",
    "    [0,0,0],\n",
    "    [0,1,1],\n",
    "    [1,0,1],\n",
    "    [1,1,0]\n",
    "]\n",
    "\n",
    "data =[]\n",
    "label =[]\n",
    "for row in xor_data:\n",
    "    p= row[0]\n",
    "    q=row[1]\n",
    "    r=row[2]\n",
    "    data.append([p,q])\n",
    "    label.append(r)\n",
    "    \n",
    "clf= svm.SVC()\n",
    "clf.fit(data, label)\n",
    "\n",
    "pre = clf.predict(data)\n",
    "print(\"예측 결과 : \",pre)\n",
    "\n",
    "ok = 0; total=0\n",
    "for idx,answer in enumerate(label):\n",
    "    p= pre[idx]\n",
    "    if p== answer: ok +=1\n",
    "    total+=1\n",
    "print(\"정답률 : \",ok ,\"/\",total, \"=\", ok/total)\n",
    "\n"
   ]
  },
  {
   "cell_type": "code",
   "execution_count": 17,
   "metadata": {},
   "outputs": [
    {
     "name": "stdout",
     "output_type": "stream",
     "text": [
      "   0  1  2\n",
      "0  0  0  0\n",
      "1  0  1  1\n",
      "2  1  0  1\n",
      "3  1  1  0\n",
      "정답률 =  1.0\n"
     ]
    }
   ],
   "source": [
    "import pandas as pd \n",
    "from sklearn import svm, metrics\n",
    "\n",
    "xor_in = [\n",
    "    [0,0,0],\n",
    "    [0,1,1],\n",
    "    [1,0,1],\n",
    "    [1,1,0]\n",
    "]\n",
    "\n",
    "xor_df= pd.DataFrame(xor_in)\n",
    "print(xor_df)\n",
    "xor_data= xor_df.iloc[:,0:2]\n",
    "xor_label = xor_df.loc[:,2]\n",
    "clf = svm.SVC()\n",
    "clf.fit(xor_data, xor_label)\n",
    "pre = clf.predict(xor_data)\n",
    "ac_score= metrics.accuracy_score(xor_label,pre)\n",
    "print(\"정답률 = \", ac_score)\n"
   ]
  },
  {
   "cell_type": "code",
   "execution_count": 30,
   "metadata": {},
   "outputs": [
    {
     "name": "stdout",
     "output_type": "stream",
     "text": [
      "150\n",
      "[[6.4, 2.7, 5.3, 1.9], [5.4, 3.4, 1.5, 0.4], [5.5, 2.4, 3.7, 1.0], [5.2, 3.4, 1.4, 0.2], [4.9, 2.4, 3.3, 1.0], [4.9, 3.1, 1.5, 0.1], [5.5, 2.4, 3.8, 1.1], [6.0, 2.2, 5.0, 1.5], [4.8, 3.4, 1.9, 0.2], [5.2, 4.1, 1.5, 0.1], [6.7, 2.5, 5.8, 1.8], [6.3, 2.8, 5.1, 1.5], [4.5, 2.3, 1.3, 0.3], [6.0, 2.2, 4.0, 1.0], [4.6, 3.1, 1.5, 0.2], [6.0, 2.7, 5.1, 1.6], [6.2, 2.8, 4.8, 1.8], [6.7, 3.0, 5.0, 1.7], [6.4, 3.1, 5.5, 1.8], [5.3, 3.7, 1.5, 0.2], [7.2, 3.0, 5.8, 1.6], [5.1, 3.5, 1.4, 0.2], [5.9, 3.2, 4.8, 1.8], [6.3, 2.5, 4.9, 1.5], [6.1, 2.8, 4.7, 1.2], [4.6, 3.4, 1.4, 0.3], [5.5, 3.5, 1.3, 0.2], [6.3, 2.5, 5.0, 1.9], [5.0, 3.4, 1.5, 0.2], [4.9, 2.5, 4.5, 1.7], [5.6, 2.9, 3.6, 1.3], [7.4, 2.8, 6.1, 1.9], [5.4, 3.7, 1.5, 0.2], [6.8, 3.2, 5.9, 2.3], [5.8, 2.8, 5.1, 2.4], [5.7, 2.8, 4.5, 1.3], [7.6, 3.0, 6.6, 2.1], [4.7, 3.2, 1.3, 0.2], [5.9, 3.0, 5.1, 1.8], [6.0, 3.4, 4.5, 1.6], [5.1, 3.4, 1.5, 0.2], [5.7, 3.8, 1.7, 0.3], [7.7, 3.8, 6.7, 2.2], [5.5, 2.6, 4.4, 1.2], [6.4, 3.2, 4.5, 1.5], [5.4, 3.0, 4.5, 1.5], [5.5, 2.3, 4.0, 1.3], [6.5, 3.0, 5.8, 2.2], [4.4, 2.9, 1.4, 0.2], [6.7, 3.1, 4.4, 1.4], [5.1, 3.7, 1.5, 0.4], [6.5, 3.2, 5.1, 2.0], [6.5, 3.0, 5.2, 2.0], [5.1, 3.8, 1.5, 0.3], [6.3, 2.9, 5.6, 1.8], [6.3, 2.3, 4.4, 1.3], [5.7, 2.9, 4.2, 1.3], [6.1, 3.0, 4.6, 1.4], [6.3, 3.3, 4.7, 1.6], [6.0, 3.0, 4.8, 1.8], [7.2, 3.6, 6.1, 2.5], [7.7, 2.6, 6.9, 2.3], [6.4, 2.8, 5.6, 2.1], [5.6, 3.0, 4.5, 1.5], [5.1, 3.8, 1.6, 0.2], [5.0, 2.3, 3.3, 1.0], [6.1, 2.9, 4.7, 1.4], [5.6, 3.0, 4.1, 1.3], [5.0, 3.0, 1.6, 0.2], [5.1, 3.8, 1.9, 0.4], [5.7, 4.4, 1.5, 0.4], [6.2, 3.4, 5.4, 2.3], [6.3, 3.3, 6.0, 2.5], [6.7, 3.1, 4.7, 1.5], [7.1, 3.0, 5.9, 2.1], [6.2, 2.2, 4.5, 1.5], [5.6, 2.8, 4.9, 2.0], [4.8, 3.0, 1.4, 0.1], [6.0, 2.9, 4.5, 1.5], [6.9, 3.1, 5.4, 2.1], [4.7, 3.2, 1.6, 0.2], [6.6, 2.9, 4.6, 1.3], [4.4, 3.2, 1.3, 0.2], [4.4, 3.0, 1.3, 0.2], [6.9, 3.1, 4.9, 1.5], [5.4, 3.9, 1.3, 0.4], [5.5, 2.5, 4.0, 1.3], [5.0, 2.0, 3.5, 1.0], [6.7, 3.0, 5.2, 2.3], [5.2, 2.7, 3.9, 1.4], [5.1, 2.5, 3.0, 1.1], [5.8, 4.0, 1.2, 0.2], [6.5, 2.8, 4.6, 1.5], [5.0, 3.5, 1.3, 0.3], [6.4, 2.9, 4.3, 1.3], [5.8, 2.7, 3.9, 1.2], [6.3, 2.7, 4.9, 1.8], [6.1, 2.6, 5.6, 1.4], [5.0, 3.3, 1.4, 0.2], [5.0, 3.6, 1.4, 0.2]] ['Iris-virginica', 'Iris-virginica', 'Iris-virginica', 'Iris-virginica', 'Iris-virginica', 'Iris-virginica', 'Iris-virginica', 'Iris-virginica', 'Iris-virginica', 'Iris-virginica', 'Iris-virginica', 'Iris-virginica', 'Iris-virginica', 'Iris-virginica', 'Iris-virginica', 'Iris-virginica', 'Iris-virginica', 'Iris-virginica', 'Iris-virginica', 'Iris-virginica', 'Iris-virginica', 'Iris-virginica', 'Iris-virginica', 'Iris-virginica', 'Iris-virginica', 'Iris-virginica', 'Iris-virginica', 'Iris-virginica', 'Iris-virginica', 'Iris-virginica', 'Iris-virginica', 'Iris-virginica', 'Iris-virginica', 'Iris-virginica', 'Iris-virginica', 'Iris-virginica', 'Iris-virginica', 'Iris-virginica', 'Iris-virginica', 'Iris-virginica', 'Iris-virginica', 'Iris-virginica', 'Iris-virginica', 'Iris-virginica', 'Iris-virginica', 'Iris-virginica', 'Iris-virginica', 'Iris-virginica', 'Iris-virginica', 'Iris-virginica', 'Iris-virginica', 'Iris-virginica', 'Iris-virginica', 'Iris-virginica', 'Iris-virginica', 'Iris-virginica', 'Iris-virginica', 'Iris-virginica', 'Iris-virginica', 'Iris-virginica', 'Iris-virginica', 'Iris-virginica', 'Iris-virginica', 'Iris-virginica', 'Iris-virginica', 'Iris-virginica', 'Iris-virginica', 'Iris-virginica', 'Iris-virginica', 'Iris-virginica', 'Iris-virginica', 'Iris-virginica', 'Iris-virginica', 'Iris-virginica', 'Iris-virginica', 'Iris-virginica', 'Iris-virginica', 'Iris-virginica', 'Iris-virginica', 'Iris-virginica', 'Iris-virginica', 'Iris-virginica', 'Iris-virginica', 'Iris-virginica', 'Iris-virginica', 'Iris-virginica', 'Iris-virginica', 'Iris-virginica', 'Iris-virginica', 'Iris-virginica', 'Iris-virginica', 'Iris-virginica', 'Iris-virginica', 'Iris-virginica', 'Iris-virginica', 'Iris-virginica', 'Iris-virginica', 'Iris-virginica', 'Iris-virginica', 'Iris-virginica']\n"
     ]
    },
    {
     "ename": "ValueError",
     "evalue": "The number of classes has to be greater than one; got 1 class",
     "output_type": "error",
     "traceback": [
      "\u001b[1;31m---------------------------------------------------------------------------\u001b[0m",
      "\u001b[1;31mValueError\u001b[0m                                Traceback (most recent call last)",
      "\u001b[1;32m<ipython-input-30-9b9b39868093>\u001b[0m in \u001b[0;36m<module>\u001b[1;34m\u001b[0m\n\u001b[0;32m     33\u001b[0m \u001b[0mprint\u001b[0m\u001b[1;33m(\u001b[0m\u001b[0mtrain_data\u001b[0m\u001b[1;33m,\u001b[0m \u001b[0mtrain_label\u001b[0m\u001b[1;33m)\u001b[0m\u001b[1;33m\u001b[0m\u001b[1;33m\u001b[0m\u001b[0m\n\u001b[0;32m     34\u001b[0m \u001b[0mclf\u001b[0m \u001b[1;33m=\u001b[0m \u001b[0msvm\u001b[0m\u001b[1;33m.\u001b[0m\u001b[0mSVC\u001b[0m\u001b[1;33m(\u001b[0m\u001b[1;33m)\u001b[0m\u001b[1;33m\u001b[0m\u001b[1;33m\u001b[0m\u001b[0m\n\u001b[1;32m---> 35\u001b[1;33m \u001b[0mclf\u001b[0m\u001b[1;33m.\u001b[0m\u001b[0mfit\u001b[0m\u001b[1;33m(\u001b[0m\u001b[0mtrain_data\u001b[0m\u001b[1;33m,\u001b[0m \u001b[0mtrain_label\u001b[0m\u001b[1;33m)\u001b[0m\u001b[1;33m\u001b[0m\u001b[1;33m\u001b[0m\u001b[0m\n\u001b[0m\u001b[0;32m     36\u001b[0m \u001b[0mpre\u001b[0m \u001b[1;33m=\u001b[0m \u001b[0mclf\u001b[0m\u001b[1;33m.\u001b[0m\u001b[0mpredict\u001b[0m\u001b[1;33m(\u001b[0m\u001b[0mtest_data\u001b[0m\u001b[1;33m)\u001b[0m\u001b[1;33m\u001b[0m\u001b[1;33m\u001b[0m\u001b[0m\n\u001b[0;32m     37\u001b[0m \u001b[1;33m\u001b[0m\u001b[0m\n",
      "\u001b[1;32mc:\\users\\bit\\appdata\\local\\programs\\python\\python37\\lib\\site-packages\\sklearn\\svm\\_base.py\u001b[0m in \u001b[0;36mfit\u001b[1;34m(self, X, y, sample_weight)\u001b[0m\n\u001b[0;32m    147\u001b[0m                          \u001b[0morder\u001b[0m\u001b[1;33m=\u001b[0m\u001b[1;34m'C'\u001b[0m\u001b[1;33m,\u001b[0m \u001b[0maccept_sparse\u001b[0m\u001b[1;33m=\u001b[0m\u001b[1;34m'csr'\u001b[0m\u001b[1;33m,\u001b[0m\u001b[1;33m\u001b[0m\u001b[1;33m\u001b[0m\u001b[0m\n\u001b[0;32m    148\u001b[0m                          accept_large_sparse=False)\n\u001b[1;32m--> 149\u001b[1;33m         \u001b[0my\u001b[0m \u001b[1;33m=\u001b[0m \u001b[0mself\u001b[0m\u001b[1;33m.\u001b[0m\u001b[0m_validate_targets\u001b[0m\u001b[1;33m(\u001b[0m\u001b[0my\u001b[0m\u001b[1;33m)\u001b[0m\u001b[1;33m\u001b[0m\u001b[1;33m\u001b[0m\u001b[0m\n\u001b[0m\u001b[0;32m    150\u001b[0m \u001b[1;33m\u001b[0m\u001b[0m\n\u001b[0;32m    151\u001b[0m         sample_weight = np.asarray([]\n",
      "\u001b[1;32mc:\\users\\bit\\appdata\\local\\programs\\python\\python37\\lib\\site-packages\\sklearn\\svm\\_base.py\u001b[0m in \u001b[0;36m_validate_targets\u001b[1;34m(self, y)\u001b[0m\n\u001b[0;32m    529\u001b[0m             raise ValueError(\n\u001b[0;32m    530\u001b[0m                 \u001b[1;34m\"The number of classes has to be greater than one; got %d\"\u001b[0m\u001b[1;33m\u001b[0m\u001b[1;33m\u001b[0m\u001b[0m\n\u001b[1;32m--> 531\u001b[1;33m                 \" class\" % len(cls))\n\u001b[0m\u001b[0;32m    532\u001b[0m \u001b[1;33m\u001b[0m\u001b[0m\n\u001b[0;32m    533\u001b[0m         \u001b[0mself\u001b[0m\u001b[1;33m.\u001b[0m\u001b[0mclasses_\u001b[0m \u001b[1;33m=\u001b[0m \u001b[0mcls\u001b[0m\u001b[1;33m\u001b[0m\u001b[1;33m\u001b[0m\u001b[0m\n",
      "\u001b[1;31mValueError\u001b[0m: The number of classes has to be greater than one; got 1 class"
     ]
    }
   ],
   "source": [
    "from sklearn import svm, metrics\n",
    "import random, re\n",
    "\n",
    "csv= []\n",
    "with open('iris.csv', 'r', encoding='utf-8') as fp:\n",
    "    for line in fp:\n",
    "        line = line.strip()\n",
    "        cols = line.split(',')\n",
    "        fn = lambda n: float(n) if re.match(r'^[0-9\\.]+$',n) else n\n",
    "        cols = list(map(fn,cols))\n",
    "        csv.append(cols)\n",
    "\n",
    "del csv[0]\n",
    "\n",
    "random.shuffle(csv)\n",
    "\n",
    "total_len = len(csv)\n",
    "train_len =int(total_len*2/3)\n",
    "train_data =[]\n",
    "train_label=[]\n",
    "test_data=[]\n",
    "test_label=[]\n",
    "print(total_len)\n",
    "for i in range (total_len):\n",
    "    data = csv[i][0:4]\n",
    "    labal = csv[i][4]\n",
    "    if i < train_len:\n",
    "        train_data.append(data)\n",
    "        train_label.append(label)\n",
    "    else:\n",
    "        test_data.append(data)\n",
    "        test_label.append(label)\n",
    "print(train_data, train_label)\n",
    "clf = svm.SVC()\n",
    "clf.fit(train_data, train_label)\n",
    "pre = clf.predict(test_data)\n",
    "\n",
    "ac_score = metrics.accuracy_score(test_label, pre)\n",
    "print('정답률 =',ac_score)"
   ]
  },
  {
   "cell_type": "code",
   "execution_count": 50,
   "metadata": {},
   "outputs": [
    {
     "name": "stdout",
     "output_type": "stream",
     "text": [
      "정답률 = 0.96\n"
     ]
    }
   ],
   "source": [
    "from sklearn import svm, metrics\n",
    "import random, re\n",
    "# 붓꽃의 CSV 데이터 읽어 들이기 --- (※1)\n",
    "csv = []\n",
    "with open('iris.csv', 'r', encoding='utf-8') as fp:\n",
    "    # 한 줄씩 읽어 들이기\n",
    "    for line in fp:\n",
    "        line = line.strip()    # 줄바꿈 제거\n",
    "        cols = line.split(',') # 쉼표로 자르기\n",
    "        # 문자열 데이터를 숫자로 변환하기\n",
    "        fn = lambda n : float(n) if re.match(r'^[0-9\\.]+$', n) else n\n",
    "        cols = list(map(fn, cols))\n",
    "        csv.append(cols)\n",
    "# 가장 앞 줄의 헤더 제거\n",
    "del csv[0]\n",
    "# 데이터 셔플하기(섞기) --- (※2)\n",
    "random.shuffle(csv)\n",
    "# 학습 전용 데이터와 테스트 전용 데이터 분할하기(2:1 비율) --- (※3)\n",
    "total_len = len(csv)\n",
    "train_len = int(total_len * 2 / 3)\n",
    "train_data = []\n",
    "train_label = []\n",
    "test_data = []\n",
    "test_label = []\n",
    "for i in range(total_len):\n",
    "    data  = csv[i][0:4]\n",
    "    label = csv[i][4]\n",
    "    if i < train_len:\n",
    "        train_data.append(data)\n",
    "        train_label.append(label)\n",
    "    else:\n",
    "        test_data.append(data)\n",
    "        test_label.append(label)\n",
    "# 데이터를 학습시키고 예측하기 --- (※4)\n",
    "clf = svm.SVC()\n",
    "clf.fit(train_data, train_label)\n",
    "pre = clf.predict(test_data)\n",
    "# 정답률 구하기 --- (※5)\n",
    "ac_score = metrics.accuracy_score(test_label, pre)\n",
    "print(\"정답률 =\", ac_score)"
   ]
  },
  {
   "cell_type": "code",
   "execution_count": 57,
   "metadata": {},
   "outputs": [
    {
     "name": "stdout",
     "output_type": "stream",
     "text": [
      "정답률  =  0.9473684210526315\n"
     ]
    }
   ],
   "source": [
    "import pandas as pd\n",
    "from sklearn import svm, metrics\n",
    "from sklearn.model_selection import train_test_split\n",
    "\n",
    "csv= pd.read_csv('iris.csv')\n",
    "\n",
    "csv_data = csv[[\"SepalLength\", \"SepalWidth\", \"PetalLength\", \"PetalWidth\"]]\n",
    "csv_label = csv[\"Name\"]\n",
    "\n",
    "train_data, test_data, train_label, test_label= \\\n",
    "    train_test_split(csv_data, csv_label)\n",
    "\n",
    "clf= svm.SVC()\n",
    "clf.fit(train_data,train_label)\n",
    "pre = clf.predict(test_data)\n",
    "\n",
    "ac_score = metrics.accuracy_score(test_label, pre)\n",
    "print(\"정답률  = \",ac_score)"
   ]
  },
  {
   "cell_type": "code",
   "execution_count": 60,
   "metadata": {},
   "outputs": [
    {
     "name": "stdout",
     "output_type": "stream",
     "text": [
      "download:  http://yann.lecun.com/exdb/mnist/train-images-idx3-ubyte.gz\n",
      "download:  http://yann.lecun.com/exdb/mnist/train-labels-idx1-ubyte.gz\n",
      "download:  http://yann.lecun.com/exdb/mnist/t10k-images-idx3-ubyte.gz\n",
      "download:  http://yann.lecun.com/exdb/mnist/t10k-labels-idx1-ubyte.gz\n",
      "gzip:  train-images-idx3-ubyte.gz\n",
      "gzip:  train-labels-idx1-ubyte.gz\n",
      "gzip:  t10k-images-idx3-ubyte.gz\n",
      "gzip:  t10k-labels-idx1-ubyte.gz\n",
      "ok\n"
     ]
    }
   ],
   "source": [
    "import urllib.request as req\n",
    "import gzip, os , os.path\n",
    "\n",
    "savepath = \"C:/python/test2\"\n",
    "baseurl = \"http://yann.lecun.com/exdb/mnist\"\n",
    "files =[\n",
    "    \"train-images-idx3-ubyte.gz\",\n",
    "    \"train-labels-idx1-ubyte.gz\",\n",
    "    \"t10k-images-idx3-ubyte.gz\",\n",
    "    \"t10k-labels-idx1-ubyte.gz\"\n",
    "]\n",
    "\n",
    "if not os.path.exists(savepath):os.mkdir()\n",
    "for f in files:\n",
    "    url = baseurl+\"/\"+f\n",
    "    loc = savepath+\"/\"+f\n",
    "    print(\"download: \" ,url)\n",
    "    if not os.path.exists(loc):\n",
    "        req.urlretrieve(url,loc)\n",
    "        \n",
    "        \n",
    "for f in files:\n",
    "    gz_file =savepath+\"//\"+f\n",
    "    raw_file = savepath+\"//\"+f\n",
    "    print(\"gzip: \" ,f)\n",
    "    with gzip.open(gz_file,'rb') as fp:\n",
    "        body = fp.read()\n",
    "        with open(raw_file, 'wb') as w:\n",
    "            w.write(body)\n",
    "print(\"ok\")"
   ]
  },
  {
   "cell_type": "code",
   "execution_count": 63,
   "metadata": {},
   "outputs": [],
   "source": [
    "import struct \n",
    "def to_csv(name, maxdata):\n",
    "    lbl_f=open(\"C:/python/test2/\"+name+\"-labels.idx1-ubyte\",\"rb\")\n",
    "    img_f=open(\"C:/python/test2/\"+name+\"-images.idx3-ubyte\",\"rb\")\n",
    "    csv_f= open(\"C:/python/test2/\"+name+\".csv\",\"w\",encoding=\"utf-8\")\n",
    "    \n",
    "    mag, lbl_count = struct.unpack(\">II\",lbl_f.read(8))\n",
    "    mag, img_count = struct.unpack(\">II\",img_f.read(8))\n",
    "    rows, cols = struct.unpack(\">II\",img_f.read(8))\n",
    "    pixels =rows*cols\n",
    "    res=[]\n",
    "    for idx in range(lbl_count):\n",
    "        if idx> maxdata: break\n",
    "        label = struct.unpack(\"B\",lbl_f.read(1))[0]\n",
    "        bdata = img_f.read(pixels)\n",
    "        sdata = list(map(lambda n: str(n),bdata))\n",
    "        csv_f.write(str(label)+\",\")\n",
    "        csv_f.write(\",\".join(sdata)+\"\\r\\n\")\n",
    "        if idx < 10:\n",
    "            s =\"P2 28 28 255\\n\"\n",
    "            s+= \" \".join(sdata)\n",
    "            iname =\"C:/python/test2/{0}-{1}-{2}.pgm\".format(name,idx,label)\n",
    "            with open(iname,\"w\", encoding=\"utf-8\") as f:\n",
    "                f.write(s)\n",
    "    csv_f.close()\n",
    "    lbl_f.close()\n",
    "    img_f.close()\n",
    "to_csv(\"train\",1000)\n",
    "to_csv(\"t10k\",500)\n"
   ]
  },
  {
   "cell_type": "code",
   "execution_count": 67,
   "metadata": {},
   "outputs": [
    {
     "name": "stdout",
     "output_type": "stream",
     "text": [
      "정답률 :  0.8842315369261478\n",
      "리포트 =                precision    recall  f1-score   support\n",
      "\n",
      "           0       0.87      0.98      0.92        42\n",
      "           1       0.99      1.00      0.99        67\n",
      "           2       0.91      0.89      0.90        55\n",
      "           3       0.94      0.72      0.81        46\n",
      "           4       0.86      0.93      0.89        55\n",
      "           5       0.75      0.82      0.78        50\n",
      "           6       0.95      0.81      0.88        43\n",
      "           7       0.79      0.94      0.86        49\n",
      "           8       0.94      0.82      0.88        40\n",
      "           9       0.89      0.87      0.88        54\n",
      "\n",
      "    accuracy                           0.88       501\n",
      "   macro avg       0.89      0.88      0.88       501\n",
      "weighted avg       0.89      0.88      0.88       501\n",
      "\n"
     ]
    }
   ],
   "source": [
    "from sklearn import model_selection, svm, metrics\n",
    "\n",
    "def load_csv(fname):\n",
    "    labels =[]\n",
    "    images =[]\n",
    "    with open(fname, \"r\") as f:\n",
    "        for line in f: \n",
    "            cols= line.split(\",\")\n",
    "            if len(cols) < 2: continue\n",
    "            labels.append(int(cols.pop(0)))\n",
    "            vals = list(map(lambda n: int(n)/256,cols))\n",
    "            images.append(vals)\n",
    "    return {\"labels\":labels, \"images\":images}\n",
    "data = load_csv(\"C:/python/test2/train.csv\")\n",
    "test = load_csv(\"C:/python/test2/t10k.csv\")\n",
    "\n",
    "clf= svm.SVC()\n",
    "clf.fit(data[\"images\"], data[\"labels\"])\n",
    "\n",
    "predict = clf.predict(test[\"images\"])\n",
    "\n",
    "ac_score = metrics.accuracy_score(test[\"labels\"], predict)\n",
    "cl_report = metrics.classification_report(test[\"labels\"],predict)\n",
    "print(\"정답률 : \",ac_score)\n",
    "print(\"리포트 = \", cl_report)"
   ]
  },
  {
   "cell_type": "code",
   "execution_count": null,
   "metadata": {},
   "outputs": [],
   "source": [
    "\"\""
   ]
  }
 ],
 "metadata": {
  "kernelspec": {
   "display_name": "Python 3",
   "language": "python",
   "name": "python3"
  },
  "language_info": {
   "codemirror_mode": {
    "name": "ipython",
    "version": 3
   },
   "file_extension": ".py",
   "mimetype": "text/x-python",
   "name": "python",
   "nbconvert_exporter": "python",
   "pygments_lexer": "ipython3",
   "version": "3.7.7"
  }
 },
 "nbformat": 4,
 "nbformat_minor": 4
}
